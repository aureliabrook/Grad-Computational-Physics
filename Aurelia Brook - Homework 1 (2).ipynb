{
 "cells": [
  {
   "cell_type": "markdown",
   "id": "e749cf0b",
   "metadata": {},
   "source": [
    "# Homework 1 <span style=\"color:red\">11/11</span>.\n",
    "\n",
    "Please submit all your homework as a jupyter notebook on NYU brightspace. \n",
    "Notebooks should run and produce the required data, plots, output, etc. \n",
    "\n",
    "Name: Aurelia Meiqi Brook\n"
   ]
  },
  {
   "cell_type": "markdown",
   "id": "fcc83672",
   "metadata": {},
   "source": [
    "## Question 1: It's all about cars\n",
    "Consider the example class that makes cars:"
   ]
  },
  {
   "cell_type": "code",
   "execution_count": 1,
   "id": "0f696308",
   "metadata": {},
   "outputs": [],
   "source": [
    "class cars:\n",
    "    #This makes a class that represents cars\n",
    "    def __init__(self, brand, model, color, type):\n",
    "        self.brand = brand\n",
    "        self.model = model\n",
    "        self.type = type\n",
    "        self.gas_tank_size = 14 #In gallons\n",
    "        self.fuel_level = 0\n",
    "        self.color = color\n",
    "\n",
    "    def fuel_up(self):\n",
    "        self.fuel_level = self.gas_tank_size\n",
    "        print('Gas tank is now full.')\n",
    "\n",
    "    def drive(self):\n",
    "        if self.fuel_level == 0:\n",
    "            print(\"You are out of gas. Fuel up.\")\n",
    "        elif self.fuel_level == 1:\n",
    "            print(\"You're running on fumes. Fuel up!\")\n",
    "            self.fuel_level -= 1\n",
    "            print(f'The {self.model} is now driving.')\n",
    "        else: \n",
    "            self.fuel_level -= 1\n",
    "            print(f'The {self.model} is now driving.')"
   ]
  },
  {
   "cell_type": "markdown",
   "id": "9c8de6a2",
   "metadata": {},
   "source": [
    "1. Change the class to also have \"color\" as an attribute. Make sure that users can initialize the color when they make a car object.\n",
    "\n",
    "2. When we make the car drive, it tells us the car is driving. That's very cute, but unfortunately real cars use up gas when they are driving. Change the drive() function to lower the fuel level by 1 gallon every time you call it. \n",
    "\n",
    "3. The fuel level can clearly not go below zero. Make sure this is impossible and print out a warning when the car is out of gas.\n",
    "\n",
    "4. It would be nice to have a message indicating that we're almost out of gas before it is too late. When the fuel level reaches one gallon, notify us that we're running on fumes.\n",
    "\n",
    "42. Make your favorite car and drive it around!\n"
   ]
  },
  {
   "cell_type": "code",
   "execution_count": 2,
   "id": "318b221d",
   "metadata": {},
   "outputs": [],
   "source": [
    "car = cars(\"Honda\", \"Accord\", \"Red\", cars)"
   ]
  },
  {
   "cell_type": "code",
   "execution_count": 3,
   "id": "75968b52",
   "metadata": {},
   "outputs": [
    {
     "name": "stdout",
     "output_type": "stream",
     "text": [
      "Gas tank is now full.\n",
      "Drive 1:\n",
      "The Accord is now driving.\n",
      "Drive 2:\n",
      "The Accord is now driving.\n",
      "Drive 3:\n",
      "The Accord is now driving.\n",
      "Drive 4:\n",
      "The Accord is now driving.\n",
      "Drive 5:\n",
      "The Accord is now driving.\n",
      "Drive 6:\n",
      "The Accord is now driving.\n",
      "Drive 7:\n",
      "The Accord is now driving.\n",
      "Drive 8:\n",
      "The Accord is now driving.\n",
      "Drive 9:\n",
      "The Accord is now driving.\n",
      "Drive 10:\n",
      "The Accord is now driving.\n",
      "Drive 11:\n",
      "The Accord is now driving.\n",
      "Drive 12:\n",
      "The Accord is now driving.\n",
      "Drive 13:\n",
      "The Accord is now driving.\n",
      "Drive 14:\n",
      "You're running on fumes. Fuel up!\n",
      "The Accord is now driving.\n",
      "Drive 15:\n",
      "You are out of gas. Fuel up.\n",
      "Drive 16:\n",
      "You are out of gas. Fuel up.\n"
     ]
    }
   ],
   "source": [
    "car.fuel_up()\n",
    "for i in range(16):\n",
    "    print(f\"Drive {i+1}:\")\n",
    "    car.drive()"
   ]
  },
  {
   "cell_type": "markdown",
   "id": "c8375cb6",
   "metadata": {},
   "source": [
    "## Question 2: Computing $\\pi$\n",
    "\n",
    "Consider the integral\n",
    "\\begin{equation}\n",
    "F=\\int_0^1 {\\rm d}x \\sqrt{1-x^2}.\n",
    "\\end{equation}\n",
    "\n",
    "1. Show that this analytically that this integral is $\\pi/4$\n",
    "2. Write a function that draws uniform random numbers $(x, y)$ with $x \\in [0, 1]$ and $y \\in [0, 1]$. Each such random ($x_i, y_i$) point is tested to see whether it lies in the unit circle, i.e.\n",
    "\\begin{equation}\n",
    "y_i \\leq \\sqrt{1-x_i^2}\n",
    "\\end{equation}\n",
    "Since the ratio of the area of the circle to the area of the square is $\\pi/4$, and since the random $(x, y)$ points are\n",
    "uniformly distributed, the fraction of $(x, y)$ points lying within the circle should provide an increasingly better\n",
    "estimate of $\\pi/4$ as more random numbers are drawn.\n",
    "3.  Use the function from 2. to estimate $\\pi$ using $N$ = 10, 100, 1000, 10, 000 points and calculate the error in your estimate. Make a plot of the error as a function of $N$. Explain the result.\n",
    "\n",
    "#### Answers:\n",
    "\n",
    "1.\n",
    "\\begin{equation}\n",
    "x = \\sin{u}, {\\rm d}x = \\cos{u} {\\rm d}u,  u = \\arcsin{x} \\\\\n",
    "F=\\int_{0}^{\\frac{\\pi}{2}} {\\rm d}u \\cos{u} \\sqrt{1-\\sin{u}^2} \\\\\n",
    "F=\\int_{0}^{\\frac{\\pi}{2}} \\cos^2{u} {\\rm d}u \\\\\n",
    "= \\frac{\\cos{u} \\sin{u}}{2} + \\frac{u}{2} \\\\\n",
    "= \\frac{\\cos{\\frac{\\pi}{2}} \\sin{\\frac{\\pi}{2}}}{2} + \\frac{\\frac{\\pi}{2}}{2} - \\frac{\\cos{0} \\sin{0}}{2} - \\frac{0}{2}\\\\\n",
    "= 0 + \\frac{\\pi}{4} - 0 - 0 \\\\\n",
    "= \\frac{\\pi}{4} \\\\\n",
    "\\end{equation}\n"
   ]
  },
  {
   "cell_type": "code",
   "execution_count": 4,
   "id": "19e9bddc",
   "metadata": {},
   "outputs": [],
   "source": [
    "from random import uniform\n",
    "\n",
    "\n",
    "def in_UnitCircle():\n",
    "    x = uniform(0, 1)\n",
    "    y = uniform(0, 1)\n",
    "    return y <= (1-x**2)**0.5"
   ]
  },
  {
   "cell_type": "code",
   "execution_count": 5,
   "id": "57c98dd5",
   "metadata": {},
   "outputs": [],
   "source": [
    "def estimate(N):\n",
    "    count = 0\n",
    "    for i in range(N):\n",
    "        if in_UnitCircle():\n",
    "            count+=1\n",
    "    return count*4/N"
   ]
  },
  {
   "cell_type": "code",
   "execution_count": 6,
   "id": "21b3bb80",
   "metadata": {},
   "outputs": [
    {
     "data": {
      "text/plain": [
       "<module 'matplotlib.pyplot' from '/home/mdupont/anaconda3/lib/python3.7/site-packages/matplotlib/pyplot.py'>"
      ]
     },
     "execution_count": 6,
     "metadata": {},
     "output_type": "execute_result"
    },
    {
     "data": {
      "image/png": "[encoded data removed]",
      "text/plain": [
       "<Figure size 432x288 with 1 Axes>"
      ]
     },
     "metadata": {
      "needs_background": "light"
     },
     "output_type": "display_data"
    }
   ],
   "source": [
    "import math\n",
    "import matplotlib.pyplot as plt\n",
    "\n",
    "iterations = [10, 100, 1000, 10000]\n",
    "error = [abs(math.pi - estimate(i)) for i in iterations]\n",
    "plt.plot(iterations, error)\n",
    "plt.xlabel(\"N Iterations\")\n",
    "plt.ylabel(\"Error\")\n",
    "plt"
   ]
  },
  {
   "cell_type": "markdown",
   "id": "4c884d1f",
   "metadata": {},
   "source": [
    "## Question 3: Taylor series exponential\n",
    "\n",
    "The series expansion of the exponential function around zero is \n",
    "\\begin{equation}\n",
    "e^x =\\sum_{n=0}^\\infty \\frac{x^n}{n!}=\\sum_{n=0}^\\infty c_n(x),\n",
    "\\end{equation}\n",
    "where the last equality defines $c_n(x)$.\n",
    "\n",
    "1. Show that $c_n(x)$ can easily be computed from $c_{n-1}(x)$.\n",
    "2. Use the previous result to make a function that computes an approximation of the exponential by computing the Taylor series to order $N$. Make it such that it only keeps two local variables. \n",
    "3. Make a plot of the convergence with $N$ by comparing the result to numpy's evaluation of the exponential for some $x$."
   ]
  },
  {
   "cell_type": "markdown",
   "id": "2083d3b5",
   "metadata": {},
   "source": [
    "#### Answers\n",
    "1. $c_n(x) = \\frac{x^n}{n!} \\\\\n",
    "c_{n-1}(x) = \\frac{x^{n-1}}{(n-1)!} \\\\ \n",
    "c_n(x) = c_{n-1}(x)\\cdot\\frac{x}{n}$"
   ]
  },
  {
   "cell_type": "code",
   "execution_count": 7,
   "id": "3cc67493",
   "metadata": {},
   "outputs": [],
   "source": [
    "import numpy as np\n",
    "\n",
    "def approxX(x, N):\n",
    "    total = 0\n",
    "    curr = 1\n",
    "    for i in range(1, N+1):\n",
    "        total += curr\n",
    "        curr *= x/i\n",
    "    return total"
   ]
  },
  {
   "cell_type": "code",
   "execution_count": 8,
   "id": "ddc91956",
   "metadata": {},
   "outputs": [
    {
     "data": {
      "text/plain": [
       "<module 'matplotlib.pyplot' from '/home/mdupont/anaconda3/lib/python3.7/site-packages/matplotlib/pyplot.py'>"
      ]
     },
     "execution_count": 8,
     "metadata": {},
     "output_type": "execute_result"
    },
    {
     "data": {
      "image/png": "[encoded data removed]",
      "text/plain": [
       "<Figure size 432x288 with 1 Axes>"
      ]
     },
     "metadata": {
      "needs_background": "light"
     },
     "output_type": "display_data"
    }
   ],
   "source": [
    "x = uniform(0, 10)\n",
    "iterations = list(range(100))\n",
    "error = [abs(np.exp(x) - approxX(x, i)) for i in iterations]\n",
    "plt.plot(iterations, error)\n",
    "plt.xlabel(\"N Iterations\")\n",
    "plt.ylabel(\"Error\")\n",
    "plt"
   ]
  },
  {
   "cell_type": "code",
   "execution_count": null,
   "id": "368bf5eb",
   "metadata": {},
   "outputs": [],
   "source": []
  }
 ],
 "metadata": {
  "kernelspec": {
   "display_name": "Python 3",
   "language": "python",
   "name": "python3"
  },
  "language_info": {
   "codemirror_mode": {
    "name": "ipython",
    "version": 3
   },
   "file_extension": ".py",
   "mimetype": "text/x-python",
   "name": "python",
   "nbconvert_exporter": "python",
   "pygments_lexer": "ipython3",
   "version": "3.7.4"
  }
 },
 "nbformat": 4,
 "nbformat_minor": 5
}
