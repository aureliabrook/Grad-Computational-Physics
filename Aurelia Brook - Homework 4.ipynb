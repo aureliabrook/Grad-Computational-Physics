{
 "cells": [
  {
   "cell_type": "markdown",
   "metadata": {},
   "source": [
    "# Homework 4: Integration\n",
    "Name: Aurelia Brook"
   ]
  },
  {
   "cell_type": "markdown",
   "metadata": {},
   "source": [
    "## 1. 1D Integration with trapezoid rule\n",
    "We want to evaluate the 1-D integral\n",
    "$$ I=\\int_{0}^5 dx e^{-x}\\cos(4\\pi x)$$\n",
    "\n",
    "1. Write a code to perform this integral using trapezoid rule.\n",
    "2. Check the precision"
   ]
  },
  {
   "cell_type": "code",
   "execution_count": 1,
   "metadata": {},
   "outputs": [
    {
     "name": "stdout",
     "output_type": "stream",
     "text": [
      "1.0138693018048595\n"
     ]
    }
   ],
   "source": [
    "import scipy\n",
    "from scipy.integrate import quad\n",
    "import numpy as np \n",
    "import math\n",
    "import matplotlib.pyplot as plt\n",
    "\n",
    "def f(x):\n",
    "    return ((math.exp(-x)) * math.cos(math.pi * 4 * x))\n",
    "\n",
    "def trapz(f, a, b, n):\n",
    "    d = (b-a)/n\n",
    "    A = 0\n",
    "    for i in range(n):\n",
    "        A += 0.5 * d * (f(a + i * d) + f(a + (i+1) * d))\n",
    "    return A\n",
    "\n",
    "I = trapz(f, 0, 5, 10)\n",
    "print(I)"
   ]
  },
  {
   "cell_type": "code",
   "execution_count": 2,
   "metadata": {},
   "outputs": [
    {
     "name": "stdout",
     "output_type": "stream",
     "text": [
      "Error when n=10: 1.0076189770191324\n"
     ]
    }
   ],
   "source": [
    "def F(x):\n",
    "    return math.exp(-x)*(4*math.pi *math.sin(4*math.pi*x)-math.cos(4*math.pi*x))/(16*math.pi**2+1)\n",
    "\n",
    "print(\"Error when n=10: \" + str(I-(F(5)-F(0))))"
   ]
  },
  {
   "cell_type": "markdown",
   "metadata": {},
   "source": [
    "## 2. Multidimensional Monte Carlo integration\n",
    "\n",
    "We want to evaluate the 10-D integral\n",
    "$$ I = \\int_{0}^{1} dx_{1}\\int_{0}^{1} dx_{2} \\cdots\n",
    "\\int_{0}^{1} dx_{10} \\left(x_{1} + x_{2} + \\cdots + x_{10}\\right)^{2}.$$\n",
    "\n",
    "1. Implement a Monte Carlo integration scheme based on mean value estimation. \n",
    "2. Check your numerical answer against the analytic one, $\\frac{155}{6}$ and investigate the convergence with the number of samples, e.g. make a plot of the error versus samples and check the asymptotic behavior.\n",
    "3. Instead of sampling uniform random numbers, implement a 10-D low discrepancy sequence. Specifically, implement a sequence \n",
    "$$x^{N+1}_i=x^{N}_i+\\alpha_i \\, {\\rm mod}\\,1, $$\n",
    "where $\\alpha_i$ are mutually irrational numbers, i.e. their ratio's are also irrational. Note that the subscript in the previous equations denotes the dimension (going from 1 to 10) and the superscript denotes the order of the sequence (not the power!). \n",
    "\n",
    "\n"
   ]
  },
  {
   "cell_type": "code",
   "execution_count": 4,
   "metadata": {},
   "outputs": [],
   "source": [
    "import random as rand\n",
    "\n",
    "def g(x1,  x2, x3, x4, x5, x6, x7, x8, x9, x10):\n",
    "    return (x1 +  x2 + x3 + x4 + x5 + x6 + x7 + x8 + x9 + x10) ** 2\n",
    "\n",
    "def MonteCarloInt(a, b, n, d, g):\n",
    "    sample = [g(*[rand.uniform(a, b) for i in range(d)]) for j in range(n)]\n",
    "    g_avg = np.mean(sample)\n",
    "    return ((b-a)**d)*g_avg\n"
   ]
  },
  {
   "cell_type": "code",
   "execution_count": 6,
   "metadata": {},
   "outputs": [
    {
     "data": {
      "image/png": "[encoded data removed]",
      "text/plain": [
       "<Figure size 432x288 with 1 Axes>"
      ]
     },
     "metadata": {},
     "output_type": "display_data"
    }
   ],
   "source": [
    "x = [1, 10, 100, 500, 1000, 5000, 10000]\n",
    "y = [abs(155/6 - MonteCarloInt(0, 1, i, 10, g)) for i in x]\n",
    "\n",
    "plt.plot(x, y)\n",
    "plt.xlabel(\"Samples\")\n",
    "plt.ylabel(\"Error\")\n",
    "plt.title(\"Monte Carlo Convergence\")\n",
    "plt.show()"
   ]
  },
  {
   "cell_type": "code",
   "execution_count": 7,
   "metadata": {},
   "outputs": [],
   "source": [
    "def MonteCarloLowDiscrepInt(a, b, n, g):\n",
    "    #  Alpha are the roots of the first 10 prime numbers, guaranteeing that each pair is mutually irrational\n",
    "    alpha = [2 ** 0.5, 3 ** 0.5, 5 ** 0.5, 7 ** 0.5, 11 ** 0.5, 13 ** 0.5, 17 ** 0.5, 19 ** 0.5, 23 ** 0.5, 29 ** 0.5]\n",
    "    x = [[rand.uniform(a, b) for i in range(10)]]\n",
    "    for i in range(1, n):\n",
    "        x.append([(x[i-1][j] + alpha[j]) % 1 for j in range(10)])\n",
    "    sample = [g(*x[i]) for i in range(n)]\n",
    "    g_avg = np.mean(sample)\n",
    "    return ((b-a)**10)*g_avg"
   ]
  },
  {
   "cell_type": "code",
   "execution_count": 8,
   "metadata": {},
   "outputs": [
    {
     "data": {
      "image/png": "[encoded data removed]",
      "text/plain": [
       "<Figure size 432x288 with 1 Axes>"
      ]
     },
     "metadata": {},
     "output_type": "display_data"
    }
   ],
   "source": [
    "x = [1, 10, 100, 500, 1000, 5000, 10000]\n",
    "y = [abs(155/6 - MonteCarloLowDiscrepInt(0, 1, i, g)) for i in x]\n",
    "\n",
    "plt.plot(x, y)\n",
    "plt.xlabel(\"Samples\")\n",
    "plt.ylabel(\"Error\")\n",
    "plt.title(\"Monte Carlo Low Discrepancy Convergence\")\n",
    "plt.show()"
   ]
  },
  {
   "cell_type": "markdown",
   "metadata": {},
   "source": [
    "## 3. 1D Integration with importance sampling\n",
    "We want to evaluate the 1-D integral\n",
    "$$ I=\\int_{0}^\\infty dx e^{-x}\\cos(4\\pi x)$$\n",
    "\n",
    "1. Write a code to perform this integration with Monte carlo. Use importance sampling, with a sampling distribution $w(x)=\\exp(-x)$. In order to do this one needs a method to sample from $w(x)$. One method to obtain samples out of an arbitrary 1-D distribution is to compute the cummulative distribution function (cdf) first, in this case that is $cdf=1-\\exp(-x)$. Next one can take uniform samples between $[0,1]$ and invert the mapping from $x$ to the $cdf$, i.e. let's say we take samples $y_i$ we find $x_i$ by solving $y_i=1-\\exp(-x_i)$.\n",
    "If you have trouble with this statement, it's instructive to schetch this out on a piece of paper.\n",
    "2. Check the precision"
   ]
  },
  {
   "cell_type": "code",
   "execution_count": 9,
   "metadata": {},
   "outputs": [],
   "source": [
    "def MonteCarloImportanceSamplingInt(a, b, n, f):\n",
    "    sample = [f(-np.log(1-(rand.uniform(a, b)))) for j in range(n)]\n",
    "    f_avg = np.mean(sample)\n",
    "    return (b-a)*f_avg"
   ]
  },
  {
   "cell_type": "code",
   "execution_count": 11,
   "metadata": {},
   "outputs": [
    {
     "data": {
      "image/png": "[encoded data removed]",
      "text/plain": [
       "<Figure size 432x288 with 1 Axes>"
      ]
     },
     "metadata": {},
     "output_type": "display_data"
    }
   ],
   "source": [
    "x = [1, 10, 100, 500, 1000]\n",
    "y = [abs(F(0) - MonteCarloImportanceSamplingInt(0, 1, i, f)) for i in x]\n",
    "\n",
    "plt.plot(x, y)\n",
    "plt.xlabel(\"Samples\")\n",
    "plt.ylabel(\"Error\")\n",
    "plt.title(\"Monte Carlo Importance Sampling Convergence\")\n",
    "plt.show()"
   ]
  },
  {
   "cell_type": "code",
   "execution_count": null,
   "metadata": {},
   "outputs": [],
   "source": []
  }
 ],
 "metadata": {
  "kernelspec": {
   "display_name": "Python 3",
   "language": "python",
   "name": "python3"
  },
  "language_info": {
   "codemirror_mode": {
    "name": "ipython",
    "version": 3
   },
   "file_extension": ".py",
   "mimetype": "text/x-python",
   "name": "python",
   "nbconvert_exporter": "python",
   "pygments_lexer": "ipython3",
   "version": "3.6.8"
  }
 },
 "nbformat": 4,
 "nbformat_minor": 5
}
